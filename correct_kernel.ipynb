{
 "cells": [
  {
   "cell_type": "code",
   "execution_count": 1,
   "id": "1cf510a7",
   "metadata": {},
   "outputs": [],
   "source": [
    "#hamiltonian generation\n",
    "#1D Isotropic Heisenberg open chain ; aperiodic\n",
    "from cudaq import spin"
   ]
  },
  {
   "cell_type": "code",
   "execution_count": null,
   "id": "cb39e466",
   "metadata": {},
   "outputs": [],
   "source": [
    "import cudaq\n",
    "\n",
    "#state preparation circuit\n",
    "\n",
    "def state_prep(nqbt):\n",
    "    @cudaq.kernel()\n",
    "    def prep():\n",
    "        q = cudaq.qvector(nqbt)\n",
    "        for i in range(nqbt):\n",
    "            h(q[i])\n",
    "        for i in range(0, nqbt-1, 2):\n",
    "            x.ctrl(q[i], q[i+1])\n",
    "    return prep\n"
   ]
  },
  {
   "cell_type": "code",
   "execution_count": 3,
   "id": "2d1c5ed1",
   "metadata": {},
   "outputs": [
    {
     "name": "stdout",
     "output_type": "stream",
     "text": [
      "     ╭───╮     \n",
      "q0 : ┤ h ├──●──\n",
      "     ├───┤╭─┴─╮\n",
      "q1 : ┤ h ├┤ x ├\n",
      "     ├───┤╰───╯\n",
      "q2 : ┤ h ├──●──\n",
      "     ├───┤╭─┴─╮\n",
      "q3 : ┤ h ├┤ x ├\n",
      "     ├───┤╰───╯\n",
      "q4 : ┤ h ├─────\n",
      "     ╰───╯     \n",
      "\n"
     ]
    }
   ],
   "source": [
    "print(cudaq.draw(\"ascii\", state_prep(5)))"
   ]
  },
  {
   "cell_type": "code",
   "execution_count": null,
   "id": "79aaa6a7",
   "metadata": {},
   "outputs": [],
   "source": [
    "#state preparation kernel\n",
    "@cudaq.kernel()\n",
    "def prep(qubit_list : ):\n",
    "    q = cudaq.qvector(nqbt)\n",
    "    for i in range(nqbt):\n",
    "        h(q[i])\n",
    "    for i in range(0, nqbt-1, 2):\n",
    "        x.ctrl(q[i], q[i+1])\n",
    "return prep"
   ]
  },
  {
   "cell_type": "code",
   "execution_count": 4,
   "id": "64799070",
   "metadata": {},
   "outputs": [],
   "source": [
    "import numpy as np\n",
    "#defining the XX(theta) gate\n",
    "@cudaq.kernel()\n",
    "def xx_gate(q0 : cudaq.qubit, q1 : cudaq.qubit, theta : float):\n",
    "    h(q0)\n",
    "    h(q1)\n",
    "    x.ctrl(q0, q1)\n",
    "    rz(-2*theta, q1)\n",
    "    x.ctrl(q0, q1)\n",
    "    h(q0)\n",
    "    h(q1)\n",
    "\n",
    "#defining the ZZ(theta) gate\n",
    "@cudaq.kernel()\n",
    "def zz_gate(q0 : cudaq.qubit, q1 : cudaq.qubit, theta : float):\n",
    "    x.ctrl(q0, q1)\n",
    "    rz(-2*theta, q1)\n",
    "    x.ctrl(q0, q1)\n",
    "\n",
    "#defining the YY(theta) gate\n",
    "@cudaq.kernel()\n",
    "def yy_gate(q0 : cudaq.qubit, q1 : cudaq.qubit, theta : float):\n",
    "    rz(np.pi/2, q0)\n",
    "    rz(np.pi/2, q1)\n",
    "    h(q0)\n",
    "    h(q1)\n",
    "    x.ctrl(q0, q1)\n",
    "    rz(-2*theta, q1)\n",
    "    x.ctrl(q0, q1)\n",
    "    h(q0)\n",
    "    h(q1)\n",
    "    rz(-np.pi/2, q0)\n",
    "    rz(-np.pi/2, q1)\n",
    "    "
   ]
  },
  {
   "cell_type": "code",
   "execution_count": 13,
   "id": "701cb83b",
   "metadata": {},
   "outputs": [],
   "source": [
    "def make_ansatz(qubits, depth=1):\n",
    "    #generating Hamiltonian\n",
    "    J = 1.0\n",
    "    ham = 0\n",
    "    for gt in range(qubits-1):\n",
    "        ham = ham + J*(spin.x(gt)*spin.x(gt+1) + spin.y(gt)*spin.y(gt+1) + spin.z(gt)*spin.z(gt+1))\n",
    "    #preprocessing\n",
    "    #hamm = ham.trim()\n",
    "    #construct kernel now\n",
    "    @cudaq.kernel()\n",
    "    def kernel():\n",
    "        #idx = 0\n",
    "        #q = cudaq.qvector(qubits)\n",
    "        #state preparation\n",
    "        #for _ in range(depth):\n",
    "        state_prep(qubits)\n",
    "    return kernel"
   ]
  },
  {
   "cell_type": "code",
   "execution_count": 14,
   "id": "ffe24dea",
   "metadata": {},
   "outputs": [],
   "source": [
    "new_kernel = make_ansatz(5)"
   ]
  },
  {
   "cell_type": "code",
   "execution_count": 16,
   "id": "cdcbad95",
   "metadata": {},
   "outputs": [
    {
     "name": "stdout",
     "output_type": "stream",
     "text": [
      "\u001b[1m"
     ]
    },
    {
     "ename": "CompilerError",
     "evalue": "3018579175.py:16: \u001b[91merror: \u001b[0m\u001b[1munhandled function call - state_prep, known kernels are dict_keys(['prep'])\n\t (offending source -> state_prep(qubits))\u001b[0m",
     "output_type": "error",
     "traceback": [
      "\u001b[31m---------------------------------------------------------------------------\u001b[39m",
      "\u001b[31mCompilerError\u001b[39m                             Traceback (most recent call last)",
      "\u001b[36mCell\u001b[39m\u001b[36m \u001b[39m\u001b[32mIn[16]\u001b[39m\u001b[32m, line 1\u001b[39m\n\u001b[32m----> \u001b[39m\u001b[32m1\u001b[39m \u001b[38;5;28mprint\u001b[39m(\u001b[43mcudaq\u001b[49m\u001b[43m.\u001b[49m\u001b[43mdraw\u001b[49m\u001b[43m(\u001b[49m\u001b[33;43m\"\u001b[39;49m\u001b[33;43mascii\u001b[39;49m\u001b[33;43m\"\u001b[39;49m\u001b[43m,\u001b[49m\u001b[43m \u001b[49m\u001b[43mnew_kernel\u001b[49m\u001b[43m)\u001b[49m)\n",
      "\u001b[36mFile \u001b[39m\u001b[32m~/Desktop/cudaq_environment/cudaq/lib/python3.12/site-packages/cudaq/kernel/kernel_decorator.py:214\u001b[39m, in \u001b[36mPyKernelDecorator.compile\u001b[39m\u001b[34m(self)\u001b[39m\n\u001b[32m    211\u001b[39m \u001b[38;5;28mself\u001b[39m.capturedDataStorage = \u001b[38;5;28mself\u001b[39m.createStorage()\n\u001b[32m    213\u001b[39m \u001b[38;5;66;03m# Caches the module and stores captured data into `self.capturedDataStorage`.\u001b[39;00m\n\u001b[32m--> \u001b[39m\u001b[32m214\u001b[39m \u001b[38;5;28mself\u001b[39m.module, \u001b[38;5;28mself\u001b[39m.argTypes, extraMetadata = \u001b[43mcompile_to_mlir\u001b[49m\u001b[43m(\u001b[49m\n\u001b[32m    215\u001b[39m \u001b[43m    \u001b[49m\u001b[38;5;28;43mself\u001b[39;49m\u001b[43m.\u001b[49m\u001b[43mastModule\u001b[49m\u001b[43m,\u001b[49m\n\u001b[32m    216\u001b[39m \u001b[43m    \u001b[49m\u001b[38;5;28;43mself\u001b[39;49m\u001b[43m.\u001b[49m\u001b[43mcapturedDataStorage\u001b[49m\u001b[43m,\u001b[49m\n\u001b[32m    217\u001b[39m \u001b[43m    \u001b[49m\u001b[43mverbose\u001b[49m\u001b[43m=\u001b[49m\u001b[38;5;28;43mself\u001b[39;49m\u001b[43m.\u001b[49m\u001b[43mverbose\u001b[49m\u001b[43m,\u001b[49m\n\u001b[32m    218\u001b[39m \u001b[43m    \u001b[49m\u001b[43mreturnType\u001b[49m\u001b[43m=\u001b[49m\u001b[38;5;28;43mself\u001b[39;49m\u001b[43m.\u001b[49m\u001b[43mreturnType\u001b[49m\u001b[43m,\u001b[49m\n\u001b[32m    219\u001b[39m \u001b[43m    \u001b[49m\u001b[43mlocation\u001b[49m\u001b[43m=\u001b[49m\u001b[38;5;28;43mself\u001b[39;49m\u001b[43m.\u001b[49m\u001b[43mlocation\u001b[49m\u001b[43m,\u001b[49m\n\u001b[32m    220\u001b[39m \u001b[43m    \u001b[49m\u001b[43mparentVariables\u001b[49m\u001b[43m=\u001b[49m\u001b[38;5;28;43mself\u001b[39;49m\u001b[43m.\u001b[49m\u001b[43mglobalScopedVars\u001b[49m\u001b[43m)\u001b[49m\n\u001b[32m    222\u001b[39m \u001b[38;5;66;03m# Grab the dependent capture variables, if any\u001b[39;00m\n\u001b[32m    223\u001b[39m \u001b[38;5;28mself\u001b[39m.dependentCaptures = extraMetadata[\n\u001b[32m    224\u001b[39m     \u001b[33m'\u001b[39m\u001b[33mdependent_captures\u001b[39m\u001b[33m'\u001b[39m] \u001b[38;5;28;01mif\u001b[39;00m \u001b[33m'\u001b[39m\u001b[33mdependent_captures\u001b[39m\u001b[33m'\u001b[39m \u001b[38;5;129;01min\u001b[39;00m extraMetadata \u001b[38;5;28;01melse\u001b[39;00m \u001b[38;5;28;01mNone\u001b[39;00m\n",
      "\u001b[36mFile \u001b[39m\u001b[32m~/Desktop/cudaq_environment/cudaq/lib/python3.12/site-packages/cudaq/kernel/ast_bridge.py:4654\u001b[39m, in \u001b[36mcompile_to_mlir\u001b[39m\u001b[34m(astModule, capturedDataStorage, **kwargs)\u001b[39m\n\u001b[32m   4648\u001b[39m         PyASTBridge(capturedDataStorage,\n\u001b[32m   4649\u001b[39m                     existingModule=bridge.module,\n\u001b[32m   4650\u001b[39m                     locationOffset=depKernels[funcName][\u001b[32m1\u001b[39m]).visit(\n\u001b[32m   4651\u001b[39m                         depKernels[funcName][\u001b[32m0\u001b[39m])\n\u001b[32m   4653\u001b[39m \u001b[38;5;66;03m# Build the MLIR Module for this kernel\u001b[39;00m\n\u001b[32m-> \u001b[39m\u001b[32m4654\u001b[39m \u001b[43mbridge\u001b[49m\u001b[43m.\u001b[49m\u001b[43mvisit\u001b[49m\u001b[43m(\u001b[49m\u001b[43mastModule\u001b[49m\u001b[43m)\u001b[49m\n\u001b[32m   4656\u001b[39m \u001b[38;5;28;01mif\u001b[39;00m verbose:\n\u001b[32m   4657\u001b[39m     \u001b[38;5;28mprint\u001b[39m(bridge.module)\n",
      "\u001b[36mFile \u001b[39m\u001b[32m~/Desktop/cudaq_environment/cudaq/lib/python3.12/site-packages/cudaq/kernel/ast_bridge.py:1075\u001b[39m, in \u001b[36mPyASTBridge.visit\u001b[39m\u001b[34m(self, node)\u001b[39m\n\u001b[32m   1073\u001b[39m \u001b[38;5;28mself\u001b[39m.debug_msg(\u001b[38;5;28;01mlambda\u001b[39;00m: \u001b[33mf\u001b[39m\u001b[33m'\u001b[39m\u001b[33m[Visit \u001b[39m\u001b[38;5;132;01m{\u001b[39;00m\u001b[38;5;28mtype\u001b[39m(node).\u001b[34m__name__\u001b[39m\u001b[38;5;132;01m}\u001b[39;00m\u001b[33m]\u001b[39m\u001b[33m'\u001b[39m, node)\n\u001b[32m   1074\u001b[39m \u001b[38;5;28mself\u001b[39m.indent_level += \u001b[32m1\u001b[39m\n\u001b[32m-> \u001b[39m\u001b[32m1075\u001b[39m \u001b[38;5;28;43msuper\u001b[39;49m\u001b[43m(\u001b[49m\u001b[43m)\u001b[49m\u001b[43m.\u001b[49m\u001b[43mvisit\u001b[49m\u001b[43m(\u001b[49m\u001b[43mnode\u001b[49m\u001b[43m)\u001b[49m\n\u001b[32m   1076\u001b[39m \u001b[38;5;28mself\u001b[39m.indent_level -= \u001b[32m1\u001b[39m\n",
      "\u001b[36mFile \u001b[39m\u001b[32m~/.local/share/uv/python/cpython-3.12.11-linux-x86_64-gnu/lib/python3.12/ast.py:407\u001b[39m, in \u001b[36mNodeVisitor.visit\u001b[39m\u001b[34m(self, node)\u001b[39m\n\u001b[32m    405\u001b[39m method = \u001b[33m'\u001b[39m\u001b[33mvisit_\u001b[39m\u001b[33m'\u001b[39m + node.\u001b[34m__class__\u001b[39m.\u001b[34m__name__\u001b[39m\n\u001b[32m    406\u001b[39m visitor = \u001b[38;5;28mgetattr\u001b[39m(\u001b[38;5;28mself\u001b[39m, method, \u001b[38;5;28mself\u001b[39m.generic_visit)\n\u001b[32m--> \u001b[39m\u001b[32m407\u001b[39m \u001b[38;5;28;01mreturn\u001b[39;00m \u001b[43mvisitor\u001b[49m\u001b[43m(\u001b[49m\u001b[43mnode\u001b[49m\u001b[43m)\u001b[49m\n",
      "\u001b[36mFile \u001b[39m\u001b[32m~/Desktop/cudaq_environment/cudaq/lib/python3.12/site-packages/cudaq/kernel/ast_bridge.py:1084\u001b[39m, in \u001b[36mPyASTBridge.generic_visit\u001b[39m\u001b[34m(self, node)\u001b[39m\n\u001b[32m   1082\u001b[39m     \u001b[38;5;28;01mfor\u001b[39;00m item \u001b[38;5;129;01min\u001b[39;00m value:\n\u001b[32m   1083\u001b[39m         \u001b[38;5;28;01mif\u001b[39;00m \u001b[38;5;28misinstance\u001b[39m(item, ast.AST):\n\u001b[32m-> \u001b[39m\u001b[32m1084\u001b[39m             \u001b[38;5;28;43mself\u001b[39;49m\u001b[43m.\u001b[49m\u001b[43mvisit\u001b[49m\u001b[43m(\u001b[49m\u001b[43mitem\u001b[49m\u001b[43m)\u001b[49m\n\u001b[32m   1085\u001b[39m \u001b[38;5;28;01melif\u001b[39;00m \u001b[38;5;28misinstance\u001b[39m(value, ast.AST):\n\u001b[32m   1086\u001b[39m     \u001b[38;5;28mself\u001b[39m.visit(value)\n",
      "\u001b[36mFile \u001b[39m\u001b[32m~/Desktop/cudaq_environment/cudaq/lib/python3.12/site-packages/cudaq/kernel/ast_bridge.py:1075\u001b[39m, in \u001b[36mPyASTBridge.visit\u001b[39m\u001b[34m(self, node)\u001b[39m\n\u001b[32m   1073\u001b[39m \u001b[38;5;28mself\u001b[39m.debug_msg(\u001b[38;5;28;01mlambda\u001b[39;00m: \u001b[33mf\u001b[39m\u001b[33m'\u001b[39m\u001b[33m[Visit \u001b[39m\u001b[38;5;132;01m{\u001b[39;00m\u001b[38;5;28mtype\u001b[39m(node).\u001b[34m__name__\u001b[39m\u001b[38;5;132;01m}\u001b[39;00m\u001b[33m]\u001b[39m\u001b[33m'\u001b[39m, node)\n\u001b[32m   1074\u001b[39m \u001b[38;5;28mself\u001b[39m.indent_level += \u001b[32m1\u001b[39m\n\u001b[32m-> \u001b[39m\u001b[32m1075\u001b[39m \u001b[38;5;28;43msuper\u001b[39;49m\u001b[43m(\u001b[49m\u001b[43m)\u001b[49m\u001b[43m.\u001b[49m\u001b[43mvisit\u001b[49m\u001b[43m(\u001b[49m\u001b[43mnode\u001b[49m\u001b[43m)\u001b[49m\n\u001b[32m   1076\u001b[39m \u001b[38;5;28mself\u001b[39m.indent_level -= \u001b[32m1\u001b[39m\n",
      "\u001b[36mFile \u001b[39m\u001b[32m~/.local/share/uv/python/cpython-3.12.11-linux-x86_64-gnu/lib/python3.12/ast.py:407\u001b[39m, in \u001b[36mNodeVisitor.visit\u001b[39m\u001b[34m(self, node)\u001b[39m\n\u001b[32m    405\u001b[39m method = \u001b[33m'\u001b[39m\u001b[33mvisit_\u001b[39m\u001b[33m'\u001b[39m + node.\u001b[34m__class__\u001b[39m.\u001b[34m__name__\u001b[39m\n\u001b[32m    406\u001b[39m visitor = \u001b[38;5;28mgetattr\u001b[39m(\u001b[38;5;28mself\u001b[39m, method, \u001b[38;5;28mself\u001b[39m.generic_visit)\n\u001b[32m--> \u001b[39m\u001b[32m407\u001b[39m \u001b[38;5;28;01mreturn\u001b[39;00m \u001b[43mvisitor\u001b[49m\u001b[43m(\u001b[49m\u001b[43mnode\u001b[49m\u001b[43m)\u001b[49m\n",
      "\u001b[36mFile \u001b[39m\u001b[32m~/Desktop/cudaq_environment/cudaq/lib/python3.12/site-packages/cudaq/kernel/ast_bridge.py:1202\u001b[39m, in \u001b[36mPyASTBridge.visit_FunctionDef\u001b[39m\u001b[34m(self, node)\u001b[39m\n\u001b[32m   1200\u001b[39m         \u001b[38;5;28;01mif\u001b[39;00m \u001b[38;5;28misinstance\u001b[39m(constant.value, \u001b[38;5;28mstr\u001b[39m):\n\u001b[32m   1201\u001b[39m             startIdx = \u001b[32m1\u001b[39m\n\u001b[32m-> \u001b[39m\u001b[32m1202\u001b[39m [\u001b[38;5;28;43mself\u001b[39;49m\u001b[43m.\u001b[49m\u001b[43mvisit\u001b[49m\u001b[43m(\u001b[49m\u001b[43mn\u001b[49m\u001b[43m)\u001b[49m \u001b[38;5;28;01mfor\u001b[39;00m n \u001b[38;5;129;01min\u001b[39;00m node.body[startIdx:]]\n\u001b[32m   1203\u001b[39m \u001b[38;5;66;03m# Add the return operation\u001b[39;00m\n\u001b[32m   1204\u001b[39m \u001b[38;5;28;01mif\u001b[39;00m \u001b[38;5;129;01mnot\u001b[39;00m \u001b[38;5;28mself\u001b[39m.hasTerminator(\u001b[38;5;28mself\u001b[39m.entry):\n\u001b[32m   1205\u001b[39m     \u001b[38;5;66;03m# If the function has a known (non-None) return type, emit\u001b[39;00m\n\u001b[32m   1206\u001b[39m     \u001b[38;5;66;03m# an `undef` of that type and return it; else return void\u001b[39;00m\n",
      "\u001b[36mFile \u001b[39m\u001b[32m~/Desktop/cudaq_environment/cudaq/lib/python3.12/site-packages/cudaq/kernel/ast_bridge.py:1075\u001b[39m, in \u001b[36mPyASTBridge.visit\u001b[39m\u001b[34m(self, node)\u001b[39m\n\u001b[32m   1073\u001b[39m \u001b[38;5;28mself\u001b[39m.debug_msg(\u001b[38;5;28;01mlambda\u001b[39;00m: \u001b[33mf\u001b[39m\u001b[33m'\u001b[39m\u001b[33m[Visit \u001b[39m\u001b[38;5;132;01m{\u001b[39;00m\u001b[38;5;28mtype\u001b[39m(node).\u001b[34m__name__\u001b[39m\u001b[38;5;132;01m}\u001b[39;00m\u001b[33m]\u001b[39m\u001b[33m'\u001b[39m, node)\n\u001b[32m   1074\u001b[39m \u001b[38;5;28mself\u001b[39m.indent_level += \u001b[32m1\u001b[39m\n\u001b[32m-> \u001b[39m\u001b[32m1075\u001b[39m \u001b[38;5;28;43msuper\u001b[39;49m\u001b[43m(\u001b[49m\u001b[43m)\u001b[49m\u001b[43m.\u001b[49m\u001b[43mvisit\u001b[49m\u001b[43m(\u001b[49m\u001b[43mnode\u001b[49m\u001b[43m)\u001b[49m\n\u001b[32m   1076\u001b[39m \u001b[38;5;28mself\u001b[39m.indent_level -= \u001b[32m1\u001b[39m\n",
      "\u001b[36mFile \u001b[39m\u001b[32m~/.local/share/uv/python/cpython-3.12.11-linux-x86_64-gnu/lib/python3.12/ast.py:407\u001b[39m, in \u001b[36mNodeVisitor.visit\u001b[39m\u001b[34m(self, node)\u001b[39m\n\u001b[32m    405\u001b[39m method = \u001b[33m'\u001b[39m\u001b[33mvisit_\u001b[39m\u001b[33m'\u001b[39m + node.\u001b[34m__class__\u001b[39m.\u001b[34m__name__\u001b[39m\n\u001b[32m    406\u001b[39m visitor = \u001b[38;5;28mgetattr\u001b[39m(\u001b[38;5;28mself\u001b[39m, method, \u001b[38;5;28mself\u001b[39m.generic_visit)\n\u001b[32m--> \u001b[39m\u001b[32m407\u001b[39m \u001b[38;5;28;01mreturn\u001b[39;00m \u001b[43mvisitor\u001b[49m\u001b[43m(\u001b[49m\u001b[43mnode\u001b[49m\u001b[43m)\u001b[49m\n",
      "\u001b[36mFile \u001b[39m\u001b[32m~/Desktop/cudaq_environment/cudaq/lib/python3.12/site-packages/cudaq/kernel/ast_bridge.py:1247\u001b[39m, in \u001b[36mPyASTBridge.visit_Expr\u001b[39m\u001b[34m(self, node)\u001b[39m\n\u001b[32m   1244\u001b[39m     \u001b[38;5;28;01mif\u001b[39;00m \u001b[38;5;28misinstance\u001b[39m(constant.value, \u001b[38;5;28mstr\u001b[39m):\n\u001b[32m   1245\u001b[39m         \u001b[38;5;28;01mreturn\u001b[39;00m\n\u001b[32m-> \u001b[39m\u001b[32m1247\u001b[39m \u001b[38;5;28;43mself\u001b[39;49m\u001b[43m.\u001b[49m\u001b[43mvisit\u001b[49m\u001b[43m(\u001b[49m\u001b[43mnode\u001b[49m\u001b[43m.\u001b[49m\u001b[43mvalue\u001b[49m\u001b[43m)\u001b[49m\n",
      "\u001b[36mFile \u001b[39m\u001b[32m~/Desktop/cudaq_environment/cudaq/lib/python3.12/site-packages/cudaq/kernel/ast_bridge.py:1075\u001b[39m, in \u001b[36mPyASTBridge.visit\u001b[39m\u001b[34m(self, node)\u001b[39m\n\u001b[32m   1073\u001b[39m \u001b[38;5;28mself\u001b[39m.debug_msg(\u001b[38;5;28;01mlambda\u001b[39;00m: \u001b[33mf\u001b[39m\u001b[33m'\u001b[39m\u001b[33m[Visit \u001b[39m\u001b[38;5;132;01m{\u001b[39;00m\u001b[38;5;28mtype\u001b[39m(node).\u001b[34m__name__\u001b[39m\u001b[38;5;132;01m}\u001b[39;00m\u001b[33m]\u001b[39m\u001b[33m'\u001b[39m, node)\n\u001b[32m   1074\u001b[39m \u001b[38;5;28mself\u001b[39m.indent_level += \u001b[32m1\u001b[39m\n\u001b[32m-> \u001b[39m\u001b[32m1075\u001b[39m \u001b[38;5;28;43msuper\u001b[39;49m\u001b[43m(\u001b[49m\u001b[43m)\u001b[49m\u001b[43m.\u001b[49m\u001b[43mvisit\u001b[49m\u001b[43m(\u001b[49m\u001b[43mnode\u001b[49m\u001b[43m)\u001b[49m\n\u001b[32m   1076\u001b[39m \u001b[38;5;28mself\u001b[39m.indent_level -= \u001b[32m1\u001b[39m\n",
      "\u001b[36mFile \u001b[39m\u001b[32m~/.local/share/uv/python/cpython-3.12.11-linux-x86_64-gnu/lib/python3.12/ast.py:407\u001b[39m, in \u001b[36mNodeVisitor.visit\u001b[39m\u001b[34m(self, node)\u001b[39m\n\u001b[32m    405\u001b[39m method = \u001b[33m'\u001b[39m\u001b[33mvisit_\u001b[39m\u001b[33m'\u001b[39m + node.\u001b[34m__class__\u001b[39m.\u001b[34m__name__\u001b[39m\n\u001b[32m    406\u001b[39m visitor = \u001b[38;5;28mgetattr\u001b[39m(\u001b[38;5;28mself\u001b[39m, method, \u001b[38;5;28mself\u001b[39m.generic_visit)\n\u001b[32m--> \u001b[39m\u001b[32m407\u001b[39m \u001b[38;5;28;01mreturn\u001b[39;00m \u001b[43mvisitor\u001b[49m\u001b[43m(\u001b[49m\u001b[43mnode\u001b[49m\u001b[43m)\u001b[49m\n",
      "\u001b[36mFile \u001b[39m\u001b[32m~/Desktop/cudaq_environment/cudaq/lib/python3.12/site-packages/cudaq/kernel/ast_bridge.py:2323\u001b[39m, in \u001b[36mPyASTBridge.visit_Call\u001b[39m\u001b[34m(self, node)\u001b[39m\n\u001b[32m   2320\u001b[39m         \u001b[38;5;28;01mreturn\u001b[39;00m\n\u001b[32m   2322\u001b[39m     \u001b[38;5;28;01melse\u001b[39;00m:\n\u001b[32m-> \u001b[39m\u001b[32m2323\u001b[39m         \u001b[38;5;28;43mself\u001b[39;49m\u001b[43m.\u001b[49m\u001b[43memitFatalError\u001b[49m\u001b[43m(\u001b[49m\n\u001b[32m   2324\u001b[39m \u001b[43m            \u001b[49m\u001b[33;43m\"\u001b[39;49m\u001b[33;43munhandled function call - \u001b[39;49m\u001b[38;5;132;43;01m{}\u001b[39;49;00m\u001b[33;43m, known kernels are \u001b[39;49m\u001b[38;5;132;43;01m{}\u001b[39;49;00m\u001b[33;43m\"\u001b[39;49m\u001b[43m.\u001b[49m\u001b[43mformat\u001b[49m\u001b[43m(\u001b[49m\n\u001b[32m   2325\u001b[39m \u001b[43m                \u001b[49m\u001b[43mnode\u001b[49m\u001b[43m.\u001b[49m\u001b[43mfunc\u001b[49m\u001b[43m.\u001b[49m\u001b[43mid\u001b[49m\u001b[43m,\u001b[49m\u001b[43m \u001b[49m\u001b[43mglobalKernelRegistry\u001b[49m\u001b[43m.\u001b[49m\u001b[43mkeys\u001b[49m\u001b[43m(\u001b[49m\u001b[43m)\u001b[49m\u001b[43m)\u001b[49m\u001b[43m,\u001b[49m\u001b[43m \u001b[49m\u001b[43mnode\u001b[49m\u001b[43m)\u001b[49m\n\u001b[32m   2327\u001b[39m \u001b[38;5;28;01melif\u001b[39;00m \u001b[38;5;28misinstance\u001b[39m(node.func, ast.Attribute):\n\u001b[32m   2328\u001b[39m     \u001b[38;5;28mself\u001b[39m.debug_msg(\u001b[38;5;28;01mlambda\u001b[39;00m: \u001b[33mf\u001b[39m\u001b[33m'\u001b[39m\u001b[33m[(Inline) Visit Attribute]\u001b[39m\u001b[33m'\u001b[39m, node.func)\n",
      "\u001b[36mFile \u001b[39m\u001b[32m~/Desktop/cudaq_environment/cudaq/lib/python3.12/site-packages/cudaq/kernel/ast_bridge.py:243\u001b[39m, in \u001b[36mPyASTBridge.emitFatalError\u001b[39m\u001b[34m(self, msg, astNode)\u001b[39m\n\u001b[32m    237\u001b[39m \u001b[38;5;28mprint\u001b[39m(Color.BOLD, end=\u001b[33m'\u001b[39m\u001b[33m'\u001b[39m)\n\u001b[32m    238\u001b[39m msg = codeFile + \u001b[33m\"\u001b[39m\u001b[33m:\u001b[39m\u001b[33m\"\u001b[39m + \u001b[38;5;28mstr\u001b[39m(\n\u001b[32m    239\u001b[39m     lineNumber\n\u001b[32m    240\u001b[39m ) + \u001b[33m\"\u001b[39m\u001b[33m: \u001b[39m\u001b[33m\"\u001b[39m + Color.RED + \u001b[33m\"\u001b[39m\u001b[33merror: \u001b[39m\u001b[33m\"\u001b[39m + Color.END + Color.BOLD + msg + (\n\u001b[32m    241\u001b[39m     \u001b[33m\"\u001b[39m\u001b[38;5;130;01m\\n\u001b[39;00m\u001b[38;5;130;01m\\t\u001b[39;00m\u001b[33m (offending source -> \u001b[39m\u001b[33m\"\u001b[39m + ast.unparse(astNode) + \u001b[33m\"\u001b[39m\u001b[33m)\u001b[39m\u001b[33m\"\u001b[39m \u001b[38;5;28;01mif\u001b[39;00m\n\u001b[32m    242\u001b[39m     \u001b[38;5;28mhasattr\u001b[39m(ast, \u001b[33m'\u001b[39m\u001b[33munparse\u001b[39m\u001b[33m'\u001b[39m) \u001b[38;5;129;01mand\u001b[39;00m astNode \u001b[38;5;129;01mis\u001b[39;00m \u001b[38;5;129;01mnot\u001b[39;00m \u001b[38;5;28;01mNone\u001b[39;00m \u001b[38;5;28;01melse\u001b[39;00m \u001b[33m'\u001b[39m\u001b[33m'\u001b[39m) + Color.END\n\u001b[32m--> \u001b[39m\u001b[32m243\u001b[39m \u001b[38;5;28;01mraise\u001b[39;00m CompilerError(msg)\n",
      "\u001b[31mCompilerError\u001b[39m: 3018579175.py:16: \u001b[91merror: \u001b[0m\u001b[1munhandled function call - state_prep, known kernels are dict_keys(['prep'])\n\t (offending source -> state_prep(qubits))\u001b[0m"
     ]
    }
   ],
   "source": [
    "print(cudaq.draw(\"ascii\", new_kernel))"
   ]
  },
  {
   "cell_type": "code",
   "execution_count": null,
   "id": "5db2a446",
   "metadata": {},
   "outputs": [],
   "source": []
  },
  {
   "cell_type": "code",
   "execution_count": null,
   "id": "b30de588",
   "metadata": {},
   "outputs": [],
   "source": []
  }
 ],
 "metadata": {
  "kernelspec": {
   "display_name": "cudaq",
   "language": "python",
   "name": "python3"
  },
  "language_info": {
   "codemirror_mode": {
    "name": "ipython",
    "version": 3
   },
   "file_extension": ".py",
   "mimetype": "text/x-python",
   "name": "python",
   "nbconvert_exporter": "python",
   "pygments_lexer": "ipython3",
   "version": "3.12.11"
  }
 },
 "nbformat": 4,
 "nbformat_minor": 5
}
