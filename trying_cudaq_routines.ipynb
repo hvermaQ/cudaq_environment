{
 "cells": [
  {
   "cell_type": "code",
   "execution_count": 1,
   "id": "04b2f4cf",
   "metadata": {},
   "outputs": [],
   "source": [
    "#hamiltonian definition and gate generation"
   ]
  },
  {
   "cell_type": "code",
   "execution_count": 2,
   "id": "cc836507",
   "metadata": {},
   "outputs": [
    {
     "name": "stdout",
     "output_type": "stream",
     "text": [
      "0\n",
      "1\n",
      "2\n",
      "3\n"
     ]
    }
   ],
   "source": [
    "#hamiltonian generation\n",
    "#1D Isotropic Heisenberg open chain ; aperiodic\n",
    "from cudaq import spin\n",
    "nspins = 5\n",
    "J = 1.0\n",
    "ham = 0\n",
    "for gt in range(nspins-1):\n",
    "    print(gt)\n",
    "    ham = ham + J*(spin.x(gt)*spin.x(gt+1) + spin.y(gt)*spin.y(gt+1) + spin.z(gt)*spin.z(gt+1))"
   ]
  },
  {
   "cell_type": "code",
   "execution_count": 28,
   "id": "f35ec875",
   "metadata": {},
   "outputs": [
    {
     "name": "stdout",
     "output_type": "stream",
     "text": [
      "XX\n",
      "([[True, True, False, False]], [(1+0j)])\n",
      "YY\n",
      "([[True, True, True, True]], [(1+0j)])\n",
      "ZZ\n",
      "([[False, False, True, True]], [(1+0j)])\n",
      "\n",
      "([[]], [0j])\n",
      "XX\n",
      "([[False, True, True, False, False, False]], [(1+0j)])\n",
      "YY\n",
      "([[False, True, True, False, True, True]], [(1+0j)])\n",
      "ZZ\n",
      "([[False, False, False, False, True, True]], [(1+0j)])\n",
      "XX\n",
      "([[False, False, True, True, False, False, False, False]], [(1+0j)])\n",
      "YY\n",
      "([[False, False, True, True, False, False, True, True]], [(1+0j)])\n",
      "ZZ\n",
      "([[False, False, False, False, False, False, True, True]], [(1+0j)])\n",
      "XX\n",
      "([[False, False, False, True, True, False, False, False, False, False]], [(1+0j)])\n",
      "YY\n",
      "([[False, False, False, True, True, False, False, False, True, True]], [(1+0j)])\n",
      "ZZ\n",
      "([[False, False, False, False, False, False, False, False, True, True]], [(1+0j)])\n"
     ]
    },
    {
     "name": "stderr",
     "output_type": "stream",
     "text": [
      "/tmp/ipykernel_22554/4258056359.py:3: DeprecationWarning: raw data access will no longer be supported\n",
      "  print(term.get_raw_data())\n"
     ]
    }
   ],
   "source": [
    "for term in ham:\n",
    "    print(term.get_pauli_word())\n",
    "    print(term.get_raw_data())"
   ]
  },
  {
   "cell_type": "code",
   "execution_count": 4,
   "id": "26adc01f",
   "metadata": {},
   "outputs": [],
   "source": [
    "nqbt = nspins"
   ]
  },
  {
   "cell_type": "code",
   "execution_count": 5,
   "id": "a25972ce",
   "metadata": {},
   "outputs": [],
   "source": [
    "import cudaq\n",
    "\n",
    "#state preparation circuit\n",
    "@cudaq.kernel()\n",
    "def state_prep():\n",
    "    q = cudaq.qvector(nqbt)\n",
    "    for i in range(nqbt):\n",
    "        h(q[i])\n",
    "    for i in range(0, nqbt-1, 2):\n",
    "        x.ctrl(q[i], q[i+1])\n"
   ]
  },
  {
   "cell_type": "code",
   "execution_count": 6,
   "id": "1ab17e17",
   "metadata": {},
   "outputs": [
    {
     "name": "stdout",
     "output_type": "stream",
     "text": [
      "     ╭───╮     \n",
      "q0 : ┤ h ├──●──\n",
      "     ├───┤╭─┴─╮\n",
      "q1 : ┤ h ├┤ x ├\n",
      "     ├───┤╰───╯\n",
      "q2 : ┤ h ├──●──\n",
      "     ├───┤╭─┴─╮\n",
      "q3 : ┤ h ├┤ x ├\n",
      "     ├───┤╰───╯\n",
      "q4 : ┤ h ├─────\n",
      "     ╰───╯     \n",
      "\n"
     ]
    }
   ],
   "source": [
    "print(cudaq.draw(\"ascii\", state_prep))"
   ]
  },
  {
   "cell_type": "code",
   "execution_count": null,
   "id": "782ca032",
   "metadata": {},
   "outputs": [],
   "source": [
    "import numpy as np\n",
    "#defining the XX(theta) gate\n",
    "@cudaq.kernel()\n",
    "def xx_gate(q0 : cudaq.qubit, q1 : cudaq.qubit, theta : float):\n",
    "    h(q0)\n",
    "    h(q1)\n",
    "    x.ctrl(q0, q1)\n",
    "    rz(-2*theta, q1)\n",
    "    x.ctrl(q0, q1)\n",
    "    h(q0)\n",
    "    h(q1)\n",
    "\n",
    "#defining the ZZ(theta) gate\n",
    "@cudaq.kernel()\n",
    "def zz_gate(q0 : cudaq.qubit, q1 : cudaq.qubit, theta : float):\n",
    "    x.ctrl(q0, q1)\n",
    "    rz(-2*theta, q1)\n",
    "    x.ctrl(q0, q1)\n",
    "\n",
    "#defining the YY(theta) gate\n",
    "@cudaq.kernel()\n",
    "def yy_gate(q0 : cudaq.qubit, q1 : cudaq.qubit, theta : float):\n",
    "    rz(np.pi/2, q0)\n",
    "    rz(np.pi/2, q1)\n",
    "    h(q0)\n",
    "    h(q1)\n",
    "    x.ctrl(q0, q1)\n",
    "    rz(-2*theta, q1)\n",
    "    x.ctrl(q0, q1)\n",
    "    h(q0)\n",
    "    h(q1)\n",
    "    rz(-np.pi/2, q0)\n",
    "    rz(-np.pi/2, q1)\n",
    "    "
   ]
  },
  {
   "cell_type": "code",
   "execution_count": null,
   "id": "fff2767f",
   "metadata": {},
   "outputs": [],
   "source": [
    "# ansatz circuit\n",
    "@cudaq.kernel()\n",
    "def ansatz(thetas: list[float]):\n",
    "    thetaas = iter(thetas)\n",
    "    q = cudaq.qvector(nqbt)\n",
    "    for term in ham:\n",
    "    "
   ]
  },
  {
   "cell_type": "code",
   "execution_count": 18,
   "id": "5b7c5ff8",
   "metadata": {},
   "outputs": [
    {
     "name": "stdout",
     "output_type": "stream",
     "text": [
      "     ╭───╮╭───╮                   ╭───╮╭───╮\n",
      "q0 : ┤ x ├┤ h ├──●─────────────●──┤ h ├┤ x ├\n",
      "     ├───┤├───┤╭─┴─╮╭───────╮╭─┴─╮├───┤├───┤\n",
      "q1 : ┤ x ├┤ h ├┤ x ├┤ rz(0) ├┤ x ├┤ h ├┤ x ├\n",
      "     ╰───╯╰───╯╰───╯╰───────╯╰───╯╰───╯╰───╯\n",
      "\n"
     ]
    }
   ],
   "source": [
    "print(cudaq.draw(\"ascii\", ansatz, [0]))"
   ]
  },
  {
   "cell_type": "code",
   "execution_count": null,
   "id": "d05845ba",
   "metadata": {},
   "outputs": [],
   "source": []
  }
 ],
 "metadata": {
  "kernelspec": {
   "display_name": "cudaq",
   "language": "python",
   "name": "python3"
  },
  "language_info": {
   "codemirror_mode": {
    "name": "ipython",
    "version": 3
   },
   "file_extension": ".py",
   "mimetype": "text/x-python",
   "name": "python",
   "nbconvert_exporter": "python",
   "pygments_lexer": "ipython3",
   "version": "3.12.11"
  }
 },
 "nbformat": 4,
 "nbformat_minor": 5
}
